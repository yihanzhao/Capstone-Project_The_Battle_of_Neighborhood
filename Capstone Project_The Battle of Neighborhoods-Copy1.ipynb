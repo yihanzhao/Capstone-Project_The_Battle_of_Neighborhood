{
 "cells": [
  {
   "cell_type": "markdown",
   "metadata": {},
   "source": [
    "## 1. Introduction where you discuss the business problem and who would be interested in this project.\n",
    "\n",
    "   Starting from the California gold rush which brought over twenty thousand Chinese immigrants to the United States, Chinese restaurants were spread all over to America's east coast, such as New York City, and west coast, San Fransisco. People like to use the term \"melt pot\" to describe the culture of New York City. With its diverse culture, we want to examine a good location to open a Chinese restaurant in Manhattan, which has a strong Chinese demographic.\n",
    "   \n",
    "## 2. Data where you describe the data that will be used to solve the problem and the source of the data.\n",
    "   To find the best location to open a Chinese restaurant, I will use New York City data that contains the latitude and longitude of all Chinese restaurants in Manhattan. The data is public available: https://cocl.us/new_york_dataset.</p>\n",
    "   To have more information on each Chinese restaurants, I will use the Foursquare API. \n",
    "   \n",
    "## 3. Methodology section which represents the main component of the report where you discuss and describe any exploratory data analysis that you did, any inferential statistical testing that you performed, and what machine learnings were used and why.\n",
    "   1. Collect Inspection Data \n",
    "   The data is from a public resource that contains all restaurants information in New York. I only want to explore Chinese restaurants in Manhattan. Therefore, I create a new variable labeled \"manhattan_ny\". Then, I combined the data with information of restaurants from Foursquare API with \"Likes\", \"Tips\", and \"Rating\". \n",
    "   2. Explore and Understand Data\n",
    "   I plot a figure to understand how many Chinese restaurants in each neighborhood in Manhattan. Also, I examine the ranking for tips, ratings, and likes for all Chinese restaurants. Then, I examine the average rating for each neighborhood to see if the local people like Chinese food or not. \n",
    "\n"
   ]
  },
  {
   "cell_type": "markdown",
   "metadata": {},
   "source": [
    "## 4. Results section where you discuss the results.\n",
    "\n",
    "The following table summarizes the number of Chinese restaurants in each neighborhood in Manhattan. \n",
    "<img src=\"Screen Shot 2019-04-03 at 11.38.58 AM.png\">\n",
    "\n",
    "The following table lists all Chinese restaurants in Manhattan with their names, likes, tips and ratings. \n",
    "<img src=\"Screen Shot 2019-04-03 at 12.09.52 PM.png\">\n",
    "\n",
    "The following summarizes the restaurants with highest number of likes, ratings and tips. \n",
    "<img src=\"Screen Shot 2019-04-03 at 12.11.14 PM.png\">\n",
    "\n",
    "I average all ratings for each neighborhood to check people in which neighborhood tend to give the highest rating.\n",
    "<img src=\"Screen Shot 2019-04-03 at 12.14.40 PM.png\">\n",
    "        \n",
    "          \n",
    "# 5. Discussion section where you discuss any observations you noted and any recommendations you can make based on the results.\n",
    "  From the result session, we can see people live in west village tend to give the highest rating to Chinese cuisine with an average of 9.25. Joe's Shanghai has the highest likes and tips in the neighborhood of Chinatown with total likes of 1271 and total tips of 563. Decoy in west village tend to have the highest rating of 9.3. Overall, Joe's Shanghai is the most popular one and has a great market to open a similar one in other neighborhood. \n",
    "  \n",
    "# 6. Conclusion section where you conclude the report.\n",
    " There are two Chinese restaurants in west village and people have a high rating to Chinese food. Furthermore, there is no similar Shanghai cuisine there. If someone wants to open a new Chinese restaurant in Manhattan, I would recommend to open one similar to Joe's Shanghai in west village."
   ]
  },
  {
   "cell_type": "code",
   "execution_count": null,
   "metadata": {},
   "outputs": [],
   "source": []
  }
 ],
 "metadata": {
  "kernelspec": {
   "display_name": "Python 3",
   "language": "python",
   "name": "python3"
  },
  "language_info": {
   "codemirror_mode": {
    "name": "ipython",
    "version": 3
   },
   "file_extension": ".py",
   "mimetype": "text/x-python",
   "name": "python",
   "nbconvert_exporter": "python",
   "pygments_lexer": "ipython3",
   "version": "3.6.8"
  }
 },
 "nbformat": 4,
 "nbformat_minor": 2
}
